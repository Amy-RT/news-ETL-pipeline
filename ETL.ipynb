{
 "cells": [
  {
   "cell_type": "markdown",
   "metadata": {},
   "source": [
    "## Build a News ETL Data Pipeline Using Python and SQLite"
   ]
  },
  {
   "cell_type": "markdown",
   "metadata": {},
   "source": [
    "### Task 1: Import Libraries and Connect to the News API"
   ]
  },
  {
   "cell_type": "code",
   "execution_count": 1,
   "metadata": {},
   "outputs": [],
   "source": [
    "import pandas as pd \n",
    "from typing import Union\n",
    "import sqlite3\n",
    "import newsapi\n",
    "from newsapi import NewsApiClient\n",
    "import logging"
   ]
  },
  {
   "cell_type": "code",
   "execution_count": null,
   "metadata": {},
   "outputs": [],
   "source": [
    "news_api = NewsApiClient(api_key=\"\")"
   ]
  },
  {
   "cell_type": "markdown",
   "metadata": {},
   "source": [
    "### Task 2: Retrieve and Print News Articles"
   ]
  },
  {
   "cell_type": "code",
   "execution_count": 3,
   "metadata": {},
   "outputs": [],
   "source": [
    "# set up root logger \n",
    "logging.basicConfig(level=logging.INFO, format='%(asctime)s - %(levelname)s - %(message)s')"
   ]
  },
  {
   "cell_type": "code",
   "execution_count": null,
   "metadata": {},
   "outputs": [],
   "source": [
    "def extract_news_data(api_client: newsapi.newsapi_client.NewsApiClient) -> list:\n",
    "    \"\"\"\n",
    "        Retrieves english news articles related to AI from the newsAPI: https://newsapi.org/docs/client-libraries/python\n",
    "        \n",
    "        Args:\n",
    "            api_client: the initialised news api client\n",
    "\n",
    "        Raises:\n",
    "            Exception if API connection is unsuccessful \n",
    "            \n",
    "        Returns: a list of the retrieved news article\n",
    "    \"\"\"\n",
    "    try:\n",
    "        api_results = api_client.get_everything(q='AI',\n",
    "                                                sort_by='publishedAt',\n",
    "                                                language='en'\n",
    "                                        )\n",
    "\n",
    "        logging.info(\"Connection successful: %s\", api_results['status'])\n",
    "        return api_results['articles']\n",
    "    except Exception as e:\n",
    "        logging.error(\"Connection unsuccessful: %s\", e)"
   ]
  },
  {
   "cell_type": "code",
   "execution_count": 5,
   "metadata": {},
   "outputs": [
    {
     "name": "stderr",
     "output_type": "stream",
     "text": [
      "2025-07-27 15:51:25,355 - INFO - Connection successful: ok\n"
     ]
    }
   ],
   "source": [
    "articles = extract_news_data(news_api)"
   ]
  },
  {
   "cell_type": "code",
   "execution_count": 6,
   "metadata": {},
   "outputs": [
    {
     "name": "stdout",
     "output_type": "stream",
     "text": [
      "[{'source': {'id': None, 'name': 'Pypi.org'}, 'author': None, 'title': 'aaip added to PyPI', 'description': 'AI Agent Identity Protocol (AAIP) - Standard delegation format for AI agent authorization', 'url': 'https://pypi.org/project/aaip/', 'urlToImage': 'https://pypi.org/static/images/twitter.abaf4b19.webp', 'publishedAt': '2025-07-26T15:50:53Z', 'content': 'Standard delegation format for AI agent authorization\\r\\nWhat is AAIP?\\r\\nAAIP is a standard format for users to grant specific, time-bounded, and constrained permissions to AI agents. It provides crypto… [+6958 chars]'}, {'source': {'id': None, 'name': 'Pypi.org'}, 'author': None, 'title': 'aaip 1.0.0', 'description': 'AI Agent Identity Protocol (AAIP) - Standard delegation format for AI agent authorization', 'url': 'https://pypi.org/project/aaip/1.0.0/', 'urlToImage': None, 'publishedAt': '2025-07-26T15:50:53Z', 'content': 'A required part of this site couldnt load. This may be due to a browser\\r\\n extension, network issues, or browser settings. Please check your\\r\\n connection, disable any ad blockers, or try using a diffe… [+12 chars]'}, {'source': {'id': None, 'name': 'Pypi.org'}, 'author': 'mimicx@speedpresta.com', 'title': 'mimicx 0.1.50', 'description': 'Human-like AI for everyone — vision, text, voice, and more in one simple package.', 'url': 'https://pypi.org/project/mimicx/0.1.50/', 'urlToImage': None, 'publishedAt': '2025-07-26T15:48:52Z', 'content': 'A required part of this site couldnt load. This may be due to a browser\\r\\n extension, network issues, or browser settings. Please check your\\r\\n connection, disable any ad blockers, or try using a diffe… [+12 chars]'}]\n"
     ]
    }
   ],
   "source": [
    "print(articles[:3])"
   ]
  },
  {
   "cell_type": "markdown",
   "metadata": {},
   "source": [
    "### Task 3: Clean Author Column"
   ]
  },
  {
   "cell_type": "code",
   "execution_count": null,
   "metadata": {},
   "outputs": [],
   "source": [
    "def clean_author_column(text: str) -> str:\n",
    "    \"\"\"\n",
    "    \n",
    "    \"\"\"\n",
    "    try:\n",
    "        reformatted_text = text.split(\",\")[0].title()\n",
    "        return reformatted_text\n",
    "    except AttributeError: \n",
    "        return 'No Author'"
   ]
  },
  {
   "cell_type": "markdown",
   "metadata": {},
   "source": [
    "### Task 4: Transform News Data"
   ]
  },
  {
   "cell_type": "code",
   "execution_count": null,
   "metadata": {},
   "outputs": [],
   "source": [
    "def transform_news_data(articles: list) -> pd.DataFrame:\n",
    "    \"\"\" \n",
    "    Transforms the data and loads it into a dataframe \n",
    "\n",
    "    This function extracts the necessary features from the data and performs some data cleaning \n",
    "\n",
    "    Args: \n",
    "        the list of articles returned from the API\n",
    "\n",
    "    Returns:\n",
    "        a pandas dataframe of the extracted, cleaned data\n",
    "    \"\"\"\n",
    "    article_list = []\n",
    "    for article in articles:\n",
    "        author = article['author']\n",
    "        title = article['title']\n",
    "        published_at = article['publishedAt']\n",
    "        content = article['content']\n",
    "        url = article['url']\n",
    "        source = article['source']['name']\n",
    "\n",
    "        article_list.append([source, author, title, url, published_at, content])\n",
    "\n",
    "    df = pd.DataFrame(data=article_list, \n",
    "                    columns=['Source', 'Author Name', \"News Title\", \"URL\", \"Date Published\", \"Content\"])\n",
    "\n",
    "    \n",
    "    df['Date Published'] = pd.to_datetime(df['Date Published'], format='ISO8601')\n",
    "    df[\"Author Name\"] = df[\"Author Name\"].apply(clean_author_column)\n",
    "    return df"
   ]
  },
  {
   "cell_type": "code",
   "execution_count": 9,
   "metadata": {},
   "outputs": [
    {
     "data": {
      "text/html": [
       "<div>\n",
       "<style scoped>\n",
       "    .dataframe tbody tr th:only-of-type {\n",
       "        vertical-align: middle;\n",
       "    }\n",
       "\n",
       "    .dataframe tbody tr th {\n",
       "        vertical-align: top;\n",
       "    }\n",
       "\n",
       "    .dataframe thead th {\n",
       "        text-align: right;\n",
       "    }\n",
       "</style>\n",
       "<table border=\"1\" class=\"dataframe\">\n",
       "  <thead>\n",
       "    <tr style=\"text-align: right;\">\n",
       "      <th></th>\n",
       "      <th>Source</th>\n",
       "      <th>Author Name</th>\n",
       "      <th>News Title</th>\n",
       "      <th>URL</th>\n",
       "      <th>Date Published</th>\n",
       "      <th>Content</th>\n",
       "    </tr>\n",
       "  </thead>\n",
       "  <tbody>\n",
       "    <tr>\n",
       "      <th>0</th>\n",
       "      <td>Pypi.org</td>\n",
       "      <td>No Author</td>\n",
       "      <td>aaip added to PyPI</td>\n",
       "      <td>https://pypi.org/project/aaip/</td>\n",
       "      <td>2025-07-26 15:50:53+00:00</td>\n",
       "      <td>Standard delegation format for AI agent author...</td>\n",
       "    </tr>\n",
       "    <tr>\n",
       "      <th>1</th>\n",
       "      <td>Pypi.org</td>\n",
       "      <td>No Author</td>\n",
       "      <td>aaip 1.0.0</td>\n",
       "      <td>https://pypi.org/project/aaip/1.0.0/</td>\n",
       "      <td>2025-07-26 15:50:53+00:00</td>\n",
       "      <td>A required part of this site couldnt load. Thi...</td>\n",
       "    </tr>\n",
       "    <tr>\n",
       "      <th>2</th>\n",
       "      <td>Pypi.org</td>\n",
       "      <td>Mimicx@Speedpresta.Com</td>\n",
       "      <td>mimicx 0.1.50</td>\n",
       "      <td>https://pypi.org/project/mimicx/0.1.50/</td>\n",
       "      <td>2025-07-26 15:48:52+00:00</td>\n",
       "      <td>A required part of this site couldnt load. Thi...</td>\n",
       "    </tr>\n",
       "    <tr>\n",
       "      <th>3</th>\n",
       "      <td>Yahoo Entertainment</td>\n",
       "      <td>Gabrielle Olya</td>\n",
       "      <td>AI Could Replace Millions of Jobs: Robert Kiyo...</td>\n",
       "      <td>https://finance.yahoo.com/news/ai-could-replac...</td>\n",
       "      <td>2025-07-26 15:47:09+00:00</td>\n",
       "      <td>As artificial intelligence (AI) continues to a...</td>\n",
       "    </tr>\n",
       "    <tr>\n",
       "      <th>4</th>\n",
       "      <td>Khabarhub.com</td>\n",
       "      <td>Khabarhub</td>\n",
       "      <td>Communications Minister asks stakeholders to w...</td>\n",
       "      <td>https://english.khabarhub.com/2025/26/487748/</td>\n",
       "      <td>2025-07-26 15:45:17+00:00</td>\n",
       "      <td>KATHMANDU: Minister for Communications and Inf...</td>\n",
       "    </tr>\n",
       "  </tbody>\n",
       "</table>\n",
       "</div>"
      ],
      "text/plain": [
       "                Source             Author Name  \\\n",
       "0             Pypi.org               No Author   \n",
       "1             Pypi.org               No Author   \n",
       "2             Pypi.org  Mimicx@Speedpresta.Com   \n",
       "3  Yahoo Entertainment          Gabrielle Olya   \n",
       "4        Khabarhub.com               Khabarhub   \n",
       "\n",
       "                                          News Title  \\\n",
       "0                                 aaip added to PyPI   \n",
       "1                                         aaip 1.0.0   \n",
       "2                                      mimicx 0.1.50   \n",
       "3  AI Could Replace Millions of Jobs: Robert Kiyo...   \n",
       "4  Communications Minister asks stakeholders to w...   \n",
       "\n",
       "                                                 URL  \\\n",
       "0                     https://pypi.org/project/aaip/   \n",
       "1               https://pypi.org/project/aaip/1.0.0/   \n",
       "2            https://pypi.org/project/mimicx/0.1.50/   \n",
       "3  https://finance.yahoo.com/news/ai-could-replac...   \n",
       "4      https://english.khabarhub.com/2025/26/487748/   \n",
       "\n",
       "             Date Published                                            Content  \n",
       "0 2025-07-26 15:50:53+00:00  Standard delegation format for AI agent author...  \n",
       "1 2025-07-26 15:50:53+00:00  A required part of this site couldnt load. Thi...  \n",
       "2 2025-07-26 15:48:52+00:00  A required part of this site couldnt load. Thi...  \n",
       "3 2025-07-26 15:47:09+00:00  As artificial intelligence (AI) continues to a...  \n",
       "4 2025-07-26 15:45:17+00:00  KATHMANDU: Minister for Communications and Inf...  "
      ]
     },
     "execution_count": 9,
     "metadata": {},
     "output_type": "execute_result"
    }
   ],
   "source": [
    "transformed_df = transform_news_data(articles)\n",
    "transformed_df.head()"
   ]
  },
  {
   "cell_type": "markdown",
   "metadata": {},
   "source": [
    "### Task 5: Load the Data into SQLite Database\n"
   ]
  },
  {
   "cell_type": "code",
   "execution_count": 10,
   "metadata": {},
   "outputs": [],
   "source": [
    "def load_news_data(data: pd.DataFrame) -> None:\n",
    "    \"\"\"\n",
    "    Connects with the sqlite database, creates a table and inserts the data parameter into the table \n",
    "\n",
    "    Args: \n",
    "        data: the data to be added to the database\n",
    "    \n",
    "    Returns:\n",
    "        None \n",
    "\n",
    "    Raises:\n",
    "        Exception: Catches and logs any general exception that occurs during database connection, table creation,\n",
    "                   or data insertion (e.g., sqlite3.Error, pandas-related errors).\n",
    "    \"\"\"\n",
    "    database_file = '/usercode/news_data.sqlite'\n",
    "    try:\n",
    "        with sqlite3.connect(database_file) as connection:\n",
    "            cursor = connection.cursor()\n",
    "            cursor.execute('''\n",
    "                CREATE TABLE IF NOT EXISTS news_table (\n",
    "                    \"Source\" VARCHAR(30),\n",
    "                    \"Author Name\" TEXT,\n",
    "                    \"News Title\" TEXT,\n",
    "                    \"URL\" TEXT,\n",
    "                    \"Date Published\" TEXT,\n",
    "                    \"Content\" TEXT\n",
    "                )\n",
    "            ''')\n",
    "            data.to_sql(name='news_table', con=connection, index=False, if_exists=\"append\")\n",
    "\n",
    "    except Exception as e:\n",
    "        logging.error(\"Error adding item to database: %s\", e) \n"
   ]
  },
  {
   "cell_type": "code",
   "execution_count": 11,
   "metadata": {},
   "outputs": [],
   "source": [
    "load_news_data(transformed_df)"
   ]
  },
  {
   "cell_type": "markdown",
   "metadata": {},
   "source": [
    "### Task 8: Verify Data Loading"
   ]
  },
  {
   "cell_type": "code",
   "execution_count": 12,
   "metadata": {},
   "outputs": [
    {
     "name": "stderr",
     "output_type": "stream",
     "text": [
      "2025-07-27 15:51:26,544 - INFO - Checked table 'news_table'. It contains 397 rows.\n"
     ]
    }
   ],
   "source": [
    "try:\n",
    "    table_name = 'news_table'\n",
    "    database_path = '/usercode/news_data.sqlite'\n",
    "    with sqlite3.connect(database_path) as connection:\n",
    "        cursor = connection.cursor()\n",
    "        cursor.execute(f\"SELECT COUNT(*) FROM {table_name}\")\n",
    "        row_count = cursor.fetchone()[0]\n",
    "        logging.info(f\"Checked table '{table_name}'. It contains {row_count} rows.\")\n",
    "except Exception as e:\n",
    "        logging.error(\"Connection Error: %s\", e) "
   ]
  },
  {
   "cell_type": "code",
   "execution_count": 1,
   "metadata": {},
   "outputs": [],
   "source": [
    "# assert len(transformed_df) == row_count, \"Discrepancy between size of dataframe and dataset\""
   ]
  },
  {
   "cell_type": "markdown",
   "metadata": {},
   "source": [
    "### Verify Automated ETL Data Loading:"
   ]
  },
  {
   "cell_type": "code",
   "execution_count": 17,
   "metadata": {},
   "outputs": [
    {
     "data": {
      "text/html": [
       "<div>\n",
       "<style scoped>\n",
       "    .dataframe tbody tr th:only-of-type {\n",
       "        vertical-align: middle;\n",
       "    }\n",
       "\n",
       "    .dataframe tbody tr th {\n",
       "        vertical-align: top;\n",
       "    }\n",
       "\n",
       "    .dataframe thead th {\n",
       "        text-align: right;\n",
       "    }\n",
       "</style>\n",
       "<table border=\"1\" class=\"dataframe\">\n",
       "  <thead>\n",
       "    <tr style=\"text-align: right;\">\n",
       "      <th></th>\n",
       "      <th>Source</th>\n",
       "      <th>Author Name</th>\n",
       "      <th>News Title</th>\n",
       "      <th>URL</th>\n",
       "      <th>Date Published</th>\n",
       "      <th>Content</th>\n",
       "    </tr>\n",
       "  </thead>\n",
       "  <tbody>\n",
       "    <tr>\n",
       "      <th>0</th>\n",
       "      <td>Gizmodo.com</td>\n",
       "      <td>Luc Olinga</td>\n",
       "      <td>This Small Town Greek Doctor on How He Uses AI...</td>\n",
       "      <td>https://gizmodo.com/this-small-town-greek-doct...</td>\n",
       "      <td>2025-07-26 14:16:05</td>\n",
       "      <td>Ioannina, a lakeside town in northern Greece s...</td>\n",
       "    </tr>\n",
       "    <tr>\n",
       "      <th>1</th>\n",
       "      <td>Gizmodo.com</td>\n",
       "      <td>Luc Olinga</td>\n",
       "      <td>The Greek Small Town Doctor Who Knows AI’s Sec...</td>\n",
       "      <td>https://gizmodo.com/the-greek-small-town-docto...</td>\n",
       "      <td>2025-07-26 13:25:28</td>\n",
       "      <td>On vacation in Greece since July 17, I figured...</td>\n",
       "    </tr>\n",
       "    <tr>\n",
       "      <th>2</th>\n",
       "      <td>Business Insider</td>\n",
       "      <td>Pthompson@Businessinsider.Com (Polly Thompson)</td>\n",
       "      <td>I sat in on an AI training session at KPMG. It...</td>\n",
       "      <td>https://www.businessinsider.com/kpmg-ai-traini...</td>\n",
       "      <td>2025-07-26 09:30:01</td>\n",
       "      <td>On a sweaty Monday morning in June, I joined 9...</td>\n",
       "    </tr>\n",
       "    <tr>\n",
       "      <th>3</th>\n",
       "      <td>Business Insider</td>\n",
       "      <td>Katherine Li</td>\n",
       "      <td>Meta just hired the co-creator of ChatGPT in a...</td>\n",
       "      <td>https://www.businessinsider.com/meta-escalates...</td>\n",
       "      <td>2025-07-26 01:16:36</td>\n",
       "      <td>Shengjia Zhao, a co-creator of ChatGPT and for...</td>\n",
       "    </tr>\n",
       "    <tr>\n",
       "      <th>4</th>\n",
       "      <td>Slashdot.org</td>\n",
       "      <td>Beauhd</td>\n",
       "      <td>Meta Names Shengjia Zhao As Chief Scientist of...</td>\n",
       "      <td>https://tech.slashdot.org/story/25/07/25/21432...</td>\n",
       "      <td>2025-07-26 00:50:00</td>\n",
       "      <td>Zhao will set a research agenda for MSL under ...</td>\n",
       "    </tr>\n",
       "  </tbody>\n",
       "</table>\n",
       "</div>"
      ],
      "text/plain": [
       "             Source                                     Author Name  \\\n",
       "0       Gizmodo.com                                      Luc Olinga   \n",
       "1       Gizmodo.com                                      Luc Olinga   \n",
       "2  Business Insider  Pthompson@Businessinsider.Com (Polly Thompson)   \n",
       "3  Business Insider                                    Katherine Li   \n",
       "4      Slashdot.org                                          Beauhd   \n",
       "\n",
       "                                          News Title  \\\n",
       "0  This Small Town Greek Doctor on How He Uses AI...   \n",
       "1  The Greek Small Town Doctor Who Knows AI’s Sec...   \n",
       "2  I sat in on an AI training session at KPMG. It...   \n",
       "3  Meta just hired the co-creator of ChatGPT in a...   \n",
       "4  Meta Names Shengjia Zhao As Chief Scientist of...   \n",
       "\n",
       "                                                 URL       Date Published  \\\n",
       "0  https://gizmodo.com/this-small-town-greek-doct...  2025-07-26 14:16:05   \n",
       "1  https://gizmodo.com/the-greek-small-town-docto...  2025-07-26 13:25:28   \n",
       "2  https://www.businessinsider.com/kpmg-ai-traini...  2025-07-26 09:30:01   \n",
       "3  https://www.businessinsider.com/meta-escalates...  2025-07-26 01:16:36   \n",
       "4  https://tech.slashdot.org/story/25/07/25/21432...  2025-07-26 00:50:00   \n",
       "\n",
       "                                             Content  \n",
       "0  Ioannina, a lakeside town in northern Greece s...  \n",
       "1  On vacation in Greece since July 17, I figured...  \n",
       "2  On a sweaty Monday morning in June, I joined 9...  \n",
       "3  Shengjia Zhao, a co-creator of ChatGPT and for...  \n",
       "4  Zhao will set a research agenda for MSL under ...  "
      ]
     },
     "execution_count": 17,
     "metadata": {},
     "output_type": "execute_result"
    }
   ],
   "source": [
    "with sqlite3.connect(\"/usercode/etl_news_data.sqlite\") as connection:\n",
    "    df = pd.read_sql(\"SELECT * FROM news_table;\", connection)\n",
    "df.head()"
   ]
  },
  {
   "cell_type": "code",
   "execution_count": null,
   "metadata": {},
   "outputs": [],
   "source": []
  }
 ],
 "metadata": {
  "kernelspec": {
   "display_name": "Python 3",
   "language": "python",
   "name": "python3"
  },
  "language_info": {
   "codemirror_mode": {
    "name": "ipython",
    "version": 3
   },
   "file_extension": ".py",
   "mimetype": "text/x-python",
   "name": "python",
   "nbconvert_exporter": "python",
   "pygments_lexer": "ipython3",
   "version": "3.9.6"
  },
  "orig_nbformat": 4,
  "vscode": {
   "interpreter": {
    "hash": "916dbcbb3f70747c44a77c7bcd40155683ae19c65e1c03b4aa3499c5328201f1"
   }
  }
 },
 "nbformat": 4,
 "nbformat_minor": 2
}
